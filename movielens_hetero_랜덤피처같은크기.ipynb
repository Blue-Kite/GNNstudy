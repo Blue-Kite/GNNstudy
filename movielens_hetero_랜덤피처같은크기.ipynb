{
  "nbformat": 4,
  "nbformat_minor": 0,
  "metadata": {
    "colab": {
      "name": "movielens_hetero월.ipynb",
      "provenance": [],
      "collapsed_sections": []
    },
    "kernelspec": {
      "name": "python3",
      "display_name": "Python 3"
    },
    "language_info": {
      "name": "python"
    }
  },
  "cells": [
    {
      "cell_type": "code",
      "execution_count": 5,
      "metadata": {
        "colab": {
          "base_uri": "https://localhost:8080/"
        },
        "id": "PcnV_Kj-J1tD",
        "outputId": "3098247c-1f77-494a-e82e-2864952be9ac"
      },
      "outputs": [
        {
          "output_type": "stream",
          "name": "stdout",
          "text": [
            "Mounted at /content/gdrive\n"
          ]
        }
      ],
      "source": [
        "import os\n",
        "import json\n",
        "from google.colab import drive\n",
        "\n",
        "drive.mount('/content/gdrive')"
      ]
    },
    {
      "cell_type": "code",
      "source": [
        "pip install dgl dglgo -f https://data.dgl.ai/wheels/repo.html"
      ],
      "metadata": {
        "id": "jvCbjmwXKqre"
      },
      "execution_count": null,
      "outputs": []
    },
    {
      "cell_type": "code",
      "source": [
        "import dgl\n",
        "import torch\n",
        "import torch.nn as nn\n",
        "import torch.nn.functional as F\n",
        "import pandas as pd\n",
        "from dgl import DGLGraph\n",
        "import re\n",
        "import scipy.sparse as sp\n",
        "import dgl.function as fn"
      ],
      "metadata": {
        "id": "IZqajWiNKqpO"
      },
      "execution_count": 53,
      "outputs": []
    },
    {
      "cell_type": "code",
      "source": [
        "import numpy as np\n",
        "from numpy import dot\n",
        "from numpy.linalg import norm\n",
        "from numpy import random\n",
        "import networkx as nx"
      ],
      "metadata": {
        "id": "DDch1nPVKqmV"
      },
      "execution_count": 54,
      "outputs": []
    },
    {
      "cell_type": "code",
      "source": [
        "ratings = []\n",
        "with open(os.path.join('/content/gdrive/MyDrive/Colab Notebooks/인턴/ml-1m/', 'ratings.dat'), encoding='latin1') as f:\n",
        "    for l in f:\n",
        "        user_id, movie_id, rating, timestamp = [int(_) for _ in l.split('::')]\n",
        "        ratings.append({\n",
        "            'user_id': user_id,\n",
        "            'movie_id': movie_id,\n",
        "            'rating': rating,\n",
        "            'timestamp': timestamp,\n",
        "        })\n",
        "ratings = pd.DataFrame(ratings)\n",
        "ratings.head()"
      ],
      "metadata": {
        "colab": {
          "base_uri": "https://localhost:8080/",
          "height": 206
        },
        "id": "QlkIX7-2Kqg9",
        "outputId": "6866102c-f066-4212-fbf7-2aa1e7cd08ea"
      },
      "execution_count": 55,
      "outputs": [
        {
          "output_type": "execute_result",
          "data": {
            "text/plain": [
              "   user_id  movie_id  rating  timestamp\n",
              "0        1      1193       5  978300760\n",
              "1        1       661       3  978302109\n",
              "2        1       914       3  978301968\n",
              "3        1      3408       4  978300275\n",
              "4        1      2355       5  978824291"
            ],
            "text/html": [
              "\n",
              "  <div id=\"df-9b531846-510a-4e2e-873d-ddd9e3edf7dc\">\n",
              "    <div class=\"colab-df-container\">\n",
              "      <div>\n",
              "<style scoped>\n",
              "    .dataframe tbody tr th:only-of-type {\n",
              "        vertical-align: middle;\n",
              "    }\n",
              "\n",
              "    .dataframe tbody tr th {\n",
              "        vertical-align: top;\n",
              "    }\n",
              "\n",
              "    .dataframe thead th {\n",
              "        text-align: right;\n",
              "    }\n",
              "</style>\n",
              "<table border=\"1\" class=\"dataframe\">\n",
              "  <thead>\n",
              "    <tr style=\"text-align: right;\">\n",
              "      <th></th>\n",
              "      <th>user_id</th>\n",
              "      <th>movie_id</th>\n",
              "      <th>rating</th>\n",
              "      <th>timestamp</th>\n",
              "    </tr>\n",
              "  </thead>\n",
              "  <tbody>\n",
              "    <tr>\n",
              "      <th>0</th>\n",
              "      <td>1</td>\n",
              "      <td>1193</td>\n",
              "      <td>5</td>\n",
              "      <td>978300760</td>\n",
              "    </tr>\n",
              "    <tr>\n",
              "      <th>1</th>\n",
              "      <td>1</td>\n",
              "      <td>661</td>\n",
              "      <td>3</td>\n",
              "      <td>978302109</td>\n",
              "    </tr>\n",
              "    <tr>\n",
              "      <th>2</th>\n",
              "      <td>1</td>\n",
              "      <td>914</td>\n",
              "      <td>3</td>\n",
              "      <td>978301968</td>\n",
              "    </tr>\n",
              "    <tr>\n",
              "      <th>3</th>\n",
              "      <td>1</td>\n",
              "      <td>3408</td>\n",
              "      <td>4</td>\n",
              "      <td>978300275</td>\n",
              "    </tr>\n",
              "    <tr>\n",
              "      <th>4</th>\n",
              "      <td>1</td>\n",
              "      <td>2355</td>\n",
              "      <td>5</td>\n",
              "      <td>978824291</td>\n",
              "    </tr>\n",
              "  </tbody>\n",
              "</table>\n",
              "</div>\n",
              "      <button class=\"colab-df-convert\" onclick=\"convertToInteractive('df-9b531846-510a-4e2e-873d-ddd9e3edf7dc')\"\n",
              "              title=\"Convert this dataframe to an interactive table.\"\n",
              "              style=\"display:none;\">\n",
              "        \n",
              "  <svg xmlns=\"http://www.w3.org/2000/svg\" height=\"24px\"viewBox=\"0 0 24 24\"\n",
              "       width=\"24px\">\n",
              "    <path d=\"M0 0h24v24H0V0z\" fill=\"none\"/>\n",
              "    <path d=\"M18.56 5.44l.94 2.06.94-2.06 2.06-.94-2.06-.94-.94-2.06-.94 2.06-2.06.94zm-11 1L8.5 8.5l.94-2.06 2.06-.94-2.06-.94L8.5 2.5l-.94 2.06-2.06.94zm10 10l.94 2.06.94-2.06 2.06-.94-2.06-.94-.94-2.06-.94 2.06-2.06.94z\"/><path d=\"M17.41 7.96l-1.37-1.37c-.4-.4-.92-.59-1.43-.59-.52 0-1.04.2-1.43.59L10.3 9.45l-7.72 7.72c-.78.78-.78 2.05 0 2.83L4 21.41c.39.39.9.59 1.41.59.51 0 1.02-.2 1.41-.59l7.78-7.78 2.81-2.81c.8-.78.8-2.07 0-2.86zM5.41 20L4 18.59l7.72-7.72 1.47 1.35L5.41 20z\"/>\n",
              "  </svg>\n",
              "      </button>\n",
              "      \n",
              "  <style>\n",
              "    .colab-df-container {\n",
              "      display:flex;\n",
              "      flex-wrap:wrap;\n",
              "      gap: 12px;\n",
              "    }\n",
              "\n",
              "    .colab-df-convert {\n",
              "      background-color: #E8F0FE;\n",
              "      border: none;\n",
              "      border-radius: 50%;\n",
              "      cursor: pointer;\n",
              "      display: none;\n",
              "      fill: #1967D2;\n",
              "      height: 32px;\n",
              "      padding: 0 0 0 0;\n",
              "      width: 32px;\n",
              "    }\n",
              "\n",
              "    .colab-df-convert:hover {\n",
              "      background-color: #E2EBFA;\n",
              "      box-shadow: 0px 1px 2px rgba(60, 64, 67, 0.3), 0px 1px 3px 1px rgba(60, 64, 67, 0.15);\n",
              "      fill: #174EA6;\n",
              "    }\n",
              "\n",
              "    [theme=dark] .colab-df-convert {\n",
              "      background-color: #3B4455;\n",
              "      fill: #D2E3FC;\n",
              "    }\n",
              "\n",
              "    [theme=dark] .colab-df-convert:hover {\n",
              "      background-color: #434B5C;\n",
              "      box-shadow: 0px 1px 3px 1px rgba(0, 0, 0, 0.15);\n",
              "      filter: drop-shadow(0px 1px 2px rgba(0, 0, 0, 0.3));\n",
              "      fill: #FFFFFF;\n",
              "    }\n",
              "  </style>\n",
              "\n",
              "      <script>\n",
              "        const buttonEl =\n",
              "          document.querySelector('#df-9b531846-510a-4e2e-873d-ddd9e3edf7dc button.colab-df-convert');\n",
              "        buttonEl.style.display =\n",
              "          google.colab.kernel.accessAllowed ? 'block' : 'none';\n",
              "\n",
              "        async function convertToInteractive(key) {\n",
              "          const element = document.querySelector('#df-9b531846-510a-4e2e-873d-ddd9e3edf7dc');\n",
              "          const dataTable =\n",
              "            await google.colab.kernel.invokeFunction('convertToInteractive',\n",
              "                                                     [key], {});\n",
              "          if (!dataTable) return;\n",
              "\n",
              "          const docLinkHtml = 'Like what you see? Visit the ' +\n",
              "            '<a target=\"_blank\" href=https://colab.research.google.com/notebooks/data_table.ipynb>data table notebook</a>'\n",
              "            + ' to learn more about interactive tables.';\n",
              "          element.innerHTML = '';\n",
              "          dataTable['output_type'] = 'display_data';\n",
              "          await google.colab.output.renderOutput(dataTable, element);\n",
              "          const docLink = document.createElement('div');\n",
              "          docLink.innerHTML = docLinkHtml;\n",
              "          element.appendChild(docLink);\n",
              "        }\n",
              "      </script>\n",
              "    </div>\n",
              "  </div>\n",
              "  "
            ]
          },
          "metadata": {},
          "execution_count": 55
        }
      ]
    },
    {
      "cell_type": "code",
      "source": [
        "user_id = ratings['user_id'].unique()\n",
        "movie_id = ratings['movie_id'].unique()"
      ],
      "metadata": {
        "id": "SUNPn9AQNBUG"
      },
      "execution_count": 56,
      "outputs": []
    },
    {
      "cell_type": "code",
      "source": [
        "user_id_len = len(user_id)\n",
        "movie_id_len = len(movie_id)\n",
        "totalid = user_id_len + movie_id_len                   #total id 개수는 9746 \n",
        "\n",
        "totalid, user_id_len, movie_id_len"
      ],
      "metadata": {
        "colab": {
          "base_uri": "https://localhost:8080/"
        },
        "id": "-wO8iOMWNaiO",
        "outputId": "13f6de4b-0157-42ee-994f-6941c33f91d4"
      },
      "execution_count": 57,
      "outputs": [
        {
          "output_type": "execute_result",
          "data": {
            "text/plain": [
              "(9746, 6040, 3706)"
            ]
          },
          "metadata": {},
          "execution_count": 57
        }
      ]
    },
    {
      "cell_type": "code",
      "source": [
        "min(movie_id), max(movie_id)"
      ],
      "metadata": {
        "colab": {
          "base_uri": "https://localhost:8080/"
        },
        "id": "ukdU6XjuP5om",
        "outputId": "06aafe28-b1e8-44f8-e6e9-00b5f343e6a3"
      },
      "execution_count": 58,
      "outputs": [
        {
          "output_type": "execute_result",
          "data": {
            "text/plain": [
              "(1, 3952)"
            ]
          },
          "metadata": {},
          "execution_count": 58
        }
      ]
    },
    {
      "cell_type": "code",
      "source": [
        "user_nodeidx = {}   #key는 user_id/ value는 node id \n",
        "id = 0         #노드 id는 0부터 6039 (마지막에 id는 테이블에 넣지 않았으니)\n",
        "\n",
        "for i in range(user_id_len):\n",
        "  user_nodeidx[user_id[i]] = id\n",
        "  id += 1"
      ],
      "metadata": {
        "id": "t1VNE44vNae_"
      },
      "execution_count": 59,
      "outputs": []
    },
    {
      "cell_type": "code",
      "source": [
        "len(user_nodeidx), id"
      ],
      "metadata": {
        "colab": {
          "base_uri": "https://localhost:8080/"
        },
        "id": "f3U70Rv7QQP2",
        "outputId": "b6650e53-123d-4d03-a38a-12028ae6f50c"
      },
      "execution_count": 60,
      "outputs": [
        {
          "output_type": "execute_result",
          "data": {
            "text/plain": [
              "(6040, 6040)"
            ]
          },
          "metadata": {},
          "execution_count": 60
        }
      ]
    },
    {
      "cell_type": "code",
      "source": [
        "movie_nodeidx = {}  #key는 movie_id/ value는 node id \n",
        "id = 0\n",
        "\n",
        "for i in range(movie_id_len): # 노드 id 6040 ~ 9745는 무비거 \n",
        "  movie_nodeidx[movie_id[i]]  = id\n",
        "  id += 1"
      ],
      "metadata": {
        "id": "ovruPnEmNaau"
      },
      "execution_count": 61,
      "outputs": []
    },
    {
      "cell_type": "code",
      "source": [
        "len(movie_nodeidx), id"
      ],
      "metadata": {
        "colab": {
          "base_uri": "https://localhost:8080/"
        },
        "id": "9zOxkw0qQ-Jm",
        "outputId": "e35971f4-93f3-487b-ec39-161833a653af"
      },
      "execution_count": 62,
      "outputs": [
        {
          "output_type": "execute_result",
          "data": {
            "text/plain": [
              "(3706, 3706)"
            ]
          },
          "metadata": {},
          "execution_count": 62
        }
      ]
    },
    {
      "cell_type": "code",
      "source": [
        "# 유저노드와 무비노드의 각각의 id 테이블 "
      ],
      "metadata": {
        "id": "wnY4g362Reje"
      },
      "execution_count": 63,
      "outputs": []
    },
    {
      "cell_type": "code",
      "source": [
        "ratings.head()"
      ],
      "metadata": {
        "colab": {
          "base_uri": "https://localhost:8080/",
          "height": 206
        },
        "id": "QrneIpJLowhO",
        "outputId": "49ed6582-04c1-407c-d3cc-6a115a276155"
      },
      "execution_count": 64,
      "outputs": [
        {
          "output_type": "execute_result",
          "data": {
            "text/plain": [
              "   user_id  movie_id  rating  timestamp\n",
              "0        1      1193       5  978300760\n",
              "1        1       661       3  978302109\n",
              "2        1       914       3  978301968\n",
              "3        1      3408       4  978300275\n",
              "4        1      2355       5  978824291"
            ],
            "text/html": [
              "\n",
              "  <div id=\"df-673daf4c-2497-4755-8b88-9b33e895959c\">\n",
              "    <div class=\"colab-df-container\">\n",
              "      <div>\n",
              "<style scoped>\n",
              "    .dataframe tbody tr th:only-of-type {\n",
              "        vertical-align: middle;\n",
              "    }\n",
              "\n",
              "    .dataframe tbody tr th {\n",
              "        vertical-align: top;\n",
              "    }\n",
              "\n",
              "    .dataframe thead th {\n",
              "        text-align: right;\n",
              "    }\n",
              "</style>\n",
              "<table border=\"1\" class=\"dataframe\">\n",
              "  <thead>\n",
              "    <tr style=\"text-align: right;\">\n",
              "      <th></th>\n",
              "      <th>user_id</th>\n",
              "      <th>movie_id</th>\n",
              "      <th>rating</th>\n",
              "      <th>timestamp</th>\n",
              "    </tr>\n",
              "  </thead>\n",
              "  <tbody>\n",
              "    <tr>\n",
              "      <th>0</th>\n",
              "      <td>1</td>\n",
              "      <td>1193</td>\n",
              "      <td>5</td>\n",
              "      <td>978300760</td>\n",
              "    </tr>\n",
              "    <tr>\n",
              "      <th>1</th>\n",
              "      <td>1</td>\n",
              "      <td>661</td>\n",
              "      <td>3</td>\n",
              "      <td>978302109</td>\n",
              "    </tr>\n",
              "    <tr>\n",
              "      <th>2</th>\n",
              "      <td>1</td>\n",
              "      <td>914</td>\n",
              "      <td>3</td>\n",
              "      <td>978301968</td>\n",
              "    </tr>\n",
              "    <tr>\n",
              "      <th>3</th>\n",
              "      <td>1</td>\n",
              "      <td>3408</td>\n",
              "      <td>4</td>\n",
              "      <td>978300275</td>\n",
              "    </tr>\n",
              "    <tr>\n",
              "      <th>4</th>\n",
              "      <td>1</td>\n",
              "      <td>2355</td>\n",
              "      <td>5</td>\n",
              "      <td>978824291</td>\n",
              "    </tr>\n",
              "  </tbody>\n",
              "</table>\n",
              "</div>\n",
              "      <button class=\"colab-df-convert\" onclick=\"convertToInteractive('df-673daf4c-2497-4755-8b88-9b33e895959c')\"\n",
              "              title=\"Convert this dataframe to an interactive table.\"\n",
              "              style=\"display:none;\">\n",
              "        \n",
              "  <svg xmlns=\"http://www.w3.org/2000/svg\" height=\"24px\"viewBox=\"0 0 24 24\"\n",
              "       width=\"24px\">\n",
              "    <path d=\"M0 0h24v24H0V0z\" fill=\"none\"/>\n",
              "    <path d=\"M18.56 5.44l.94 2.06.94-2.06 2.06-.94-2.06-.94-.94-2.06-.94 2.06-2.06.94zm-11 1L8.5 8.5l.94-2.06 2.06-.94-2.06-.94L8.5 2.5l-.94 2.06-2.06.94zm10 10l.94 2.06.94-2.06 2.06-.94-2.06-.94-.94-2.06-.94 2.06-2.06.94z\"/><path d=\"M17.41 7.96l-1.37-1.37c-.4-.4-.92-.59-1.43-.59-.52 0-1.04.2-1.43.59L10.3 9.45l-7.72 7.72c-.78.78-.78 2.05 0 2.83L4 21.41c.39.39.9.59 1.41.59.51 0 1.02-.2 1.41-.59l7.78-7.78 2.81-2.81c.8-.78.8-2.07 0-2.86zM5.41 20L4 18.59l7.72-7.72 1.47 1.35L5.41 20z\"/>\n",
              "  </svg>\n",
              "      </button>\n",
              "      \n",
              "  <style>\n",
              "    .colab-df-container {\n",
              "      display:flex;\n",
              "      flex-wrap:wrap;\n",
              "      gap: 12px;\n",
              "    }\n",
              "\n",
              "    .colab-df-convert {\n",
              "      background-color: #E8F0FE;\n",
              "      border: none;\n",
              "      border-radius: 50%;\n",
              "      cursor: pointer;\n",
              "      display: none;\n",
              "      fill: #1967D2;\n",
              "      height: 32px;\n",
              "      padding: 0 0 0 0;\n",
              "      width: 32px;\n",
              "    }\n",
              "\n",
              "    .colab-df-convert:hover {\n",
              "      background-color: #E2EBFA;\n",
              "      box-shadow: 0px 1px 2px rgba(60, 64, 67, 0.3), 0px 1px 3px 1px rgba(60, 64, 67, 0.15);\n",
              "      fill: #174EA6;\n",
              "    }\n",
              "\n",
              "    [theme=dark] .colab-df-convert {\n",
              "      background-color: #3B4455;\n",
              "      fill: #D2E3FC;\n",
              "    }\n",
              "\n",
              "    [theme=dark] .colab-df-convert:hover {\n",
              "      background-color: #434B5C;\n",
              "      box-shadow: 0px 1px 3px 1px rgba(0, 0, 0, 0.15);\n",
              "      filter: drop-shadow(0px 1px 2px rgba(0, 0, 0, 0.3));\n",
              "      fill: #FFFFFF;\n",
              "    }\n",
              "  </style>\n",
              "\n",
              "      <script>\n",
              "        const buttonEl =\n",
              "          document.querySelector('#df-673daf4c-2497-4755-8b88-9b33e895959c button.colab-df-convert');\n",
              "        buttonEl.style.display =\n",
              "          google.colab.kernel.accessAllowed ? 'block' : 'none';\n",
              "\n",
              "        async function convertToInteractive(key) {\n",
              "          const element = document.querySelector('#df-673daf4c-2497-4755-8b88-9b33e895959c');\n",
              "          const dataTable =\n",
              "            await google.colab.kernel.invokeFunction('convertToInteractive',\n",
              "                                                     [key], {});\n",
              "          if (!dataTable) return;\n",
              "\n",
              "          const docLinkHtml = 'Like what you see? Visit the ' +\n",
              "            '<a target=\"_blank\" href=https://colab.research.google.com/notebooks/data_table.ipynb>data table notebook</a>'\n",
              "            + ' to learn more about interactive tables.';\n",
              "          element.innerHTML = '';\n",
              "          dataTable['output_type'] = 'display_data';\n",
              "          await google.colab.output.renderOutput(dataTable, element);\n",
              "          const docLink = document.createElement('div');\n",
              "          docLink.innerHTML = docLinkHtml;\n",
              "          element.appendChild(docLink);\n",
              "        }\n",
              "      </script>\n",
              "    </div>\n",
              "  </div>\n",
              "  "
            ]
          },
          "metadata": {},
          "execution_count": 64
        }
      ]
    },
    {
      "cell_type": "code",
      "source": [
        "ratings.iloc[0, 1]"
      ],
      "metadata": {
        "colab": {
          "base_uri": "https://localhost:8080/"
        },
        "id": "1s22hCJWo2MG",
        "outputId": "babe8f1b-141f-48eb-c103-0065dca4d04c"
      },
      "execution_count": 65,
      "outputs": [
        {
          "output_type": "execute_result",
          "data": {
            "text/plain": [
              "1193"
            ]
          },
          "metadata": {},
          "execution_count": 65
        }
      ]
    },
    {
      "cell_type": "code",
      "source": [
        "users = []  #user_id에 해당하는 노드 id를 넣음 \n",
        "movies = []\n",
        "\n",
        "for i in range(len(ratings.index)):\n",
        "  user = ratings.iloc[i,0]\n",
        "  users.append(user_nodeidx[user])\n",
        "\n",
        "  movie = ratings.iloc[i, 1]\n",
        "  movies.append(movie_nodeidx[movie])"
      ],
      "metadata": {
        "id": "kLbUsDA4Nxge"
      },
      "execution_count": 66,
      "outputs": []
    },
    {
      "cell_type": "code",
      "source": [
        "edges_src = torch.from_numpy(np.array(users))\n",
        "edges_dst = torch.from_numpy(np.array(movies))"
      ],
      "metadata": {
        "id": "SPGJBtKWN0gO"
      },
      "execution_count": 67,
      "outputs": []
    },
    {
      "cell_type": "code",
      "source": [
        "#Bipartite가 아닌 일단 그냥 hetero graph\n",
        "\n",
        "graph_data = {\n",
        "   ('user_id', 'score', 'movie_id'): (edges_src,edges_dst),\n",
        "   ('movie_id', 'scored-by', 'user_id'): (edges_dst,edges_src)\n",
        "}\n",
        "he_g = dgl.heterograph(graph_data)"
      ],
      "metadata": {
        "id": "xLWjc_iQOM-1"
      },
      "execution_count": 68,
      "outputs": []
    },
    {
      "cell_type": "code",
      "source": [
        "print(he_g)"
      ],
      "metadata": {
        "id": "PzcROwjbOM4u",
        "colab": {
          "base_uri": "https://localhost:8080/"
        },
        "outputId": "e0e0d821-9712-4673-dcd2-c6d97aab0fd2"
      },
      "execution_count": 69,
      "outputs": [
        {
          "output_type": "stream",
          "name": "stdout",
          "text": [
            "Graph(num_nodes={'movie_id': 3706, 'user_id': 6040},\n",
            "      num_edges={('movie_id', 'scored-by', 'user_id'): 1000209, ('user_id', 'score', 'movie_id'): 1000209},\n",
            "      metagraph=[('movie_id', 'user_id', 'scored-by'), ('user_id', 'movie_id', 'score')])\n"
          ]
        }
      ]
    },
    {
      "cell_type": "code",
      "source": [
        "edges_feature = torch.from_numpy(ratings['rating'].to_numpy()) #엣지 속성 부여 \n",
        "edges_feature"
      ],
      "metadata": {
        "colab": {
          "base_uri": "https://localhost:8080/"
        },
        "id": "CyFCMK8Epm5W",
        "outputId": "fa7977ed-f5bf-4082-9bec-f987a672e8f2"
      },
      "execution_count": 70,
      "outputs": [
        {
          "output_type": "execute_result",
          "data": {
            "text/plain": [
              "tensor([5, 3, 3,  ..., 5, 4, 4])"
            ]
          },
          "metadata": {},
          "execution_count": 70
        }
      ]
    },
    {
      "cell_type": "code",
      "source": [
        "he_g.edges['score'].data['rating'] = edges_feature"
      ],
      "metadata": {
        "id": "DPdEfSnxp4X-"
      },
      "execution_count": 71,
      "outputs": []
    },
    {
      "cell_type": "code",
      "source": [
        "print(he_g)"
      ],
      "metadata": {
        "colab": {
          "base_uri": "https://localhost:8080/"
        },
        "id": "1gLhWrwkrkA1",
        "outputId": "6bd3f8ad-0f3c-4a64-b559-af23a294c1b3"
      },
      "execution_count": 72,
      "outputs": [
        {
          "output_type": "stream",
          "name": "stdout",
          "text": [
            "Graph(num_nodes={'movie_id': 3706, 'user_id': 6040},\n",
            "      num_edges={('movie_id', 'scored-by', 'user_id'): 1000209, ('user_id', 'score', 'movie_id'): 1000209},\n",
            "      metagraph=[('movie_id', 'user_id', 'scored-by'), ('user_id', 'movie_id', 'score')])\n"
          ]
        }
      ]
    },
    {
      "cell_type": "code",
      "source": [
        "featsize = 1000\n",
        "#np.random.randint(start, end, number)  -> start~end범위 사이의 숫자 number개 "
      ],
      "metadata": {
        "id": "9ZVIrNP0uTJn"
      },
      "execution_count": 73,
      "outputs": []
    },
    {
      "cell_type": "code",
      "source": [
        "user_featsize = he_g.num_nodes('user_id')\n",
        "movie_featsize = he_g.num_nodes('movie_id')\n",
        "user_featsize, movie_featsize"
      ],
      "metadata": {
        "colab": {
          "base_uri": "https://localhost:8080/"
        },
        "id": "F1mzU4bTsY8-",
        "outputId": "532749cd-eb01-4191-e478-9a1fddfa0a9e"
      },
      "execution_count": 74,
      "outputs": [
        {
          "output_type": "execute_result",
          "data": {
            "text/plain": [
              "(6040, 3706)"
            ]
          },
          "metadata": {},
          "execution_count": 74
        }
      ]
    },
    {
      "cell_type": "code",
      "source": [
        "user_feat = torch.randn(user_featsize, featsize)\n",
        "user_feat.shape"
      ],
      "metadata": {
        "colab": {
          "base_uri": "https://localhost:8080/"
        },
        "id": "zAHs-bM9rrQs",
        "outputId": "218a4b37-78cf-42b2-c022-d9b466db6d1f"
      },
      "execution_count": 75,
      "outputs": [
        {
          "output_type": "execute_result",
          "data": {
            "text/plain": [
              "torch.Size([6040, 1000])"
            ]
          },
          "metadata": {},
          "execution_count": 75
        }
      ]
    },
    {
      "cell_type": "code",
      "source": [
        "movie_feat = torch.randn(movie_featsize, featsize)\n",
        "movie_feat.shape"
      ],
      "metadata": {
        "colab": {
          "base_uri": "https://localhost:8080/"
        },
        "id": "SSXazJE1vTE9",
        "outputId": "aad05f31-20ab-4b16-ccc2-1ab5ed54ec31"
      },
      "execution_count": 76,
      "outputs": [
        {
          "output_type": "execute_result",
          "data": {
            "text/plain": [
              "torch.Size([3706, 1000])"
            ]
          },
          "metadata": {},
          "execution_count": 76
        }
      ]
    },
    {
      "cell_type": "code",
      "source": [
        "he_g.nodes['user_id'].data['feature'] = user_feat\n",
        "he_g.nodes['movie_id'].data['feature'] = movie_feat"
      ],
      "metadata": {
        "id": "-sZRolpexRWF"
      },
      "execution_count": 77,
      "outputs": []
    },
    {
      "cell_type": "code",
      "source": [
        "he_g"
      ],
      "metadata": {
        "colab": {
          "base_uri": "https://localhost:8080/"
        },
        "id": "tFy-GzRExRQ2",
        "outputId": "8a6c38c5-6214-4542-ab62-e21dc9674003"
      },
      "execution_count": 78,
      "outputs": [
        {
          "output_type": "execute_result",
          "data": {
            "text/plain": [
              "Graph(num_nodes={'movie_id': 3706, 'user_id': 6040},\n",
              "      num_edges={('movie_id', 'scored-by', 'user_id'): 1000209, ('user_id', 'score', 'movie_id'): 1000209},\n",
              "      metagraph=[('movie_id', 'user_id', 'scored-by'), ('user_id', 'movie_id', 'score')])"
            ]
          },
          "metadata": {},
          "execution_count": 78
        }
      ]
    },
    {
      "cell_type": "code",
      "source": [
        ""
      ],
      "metadata": {
        "id": "OMmPHnLux0re"
      },
      "execution_count": 78,
      "outputs": []
    },
    {
      "cell_type": "code",
      "source": [
        "class HeteroDotProductPredictor(nn.Module):\n",
        "    def forward(self, graph, h, etype):\n",
        "        # h contains the node representations for each node type computed from\n",
        "        # the GNN defined in the previous section (Section 5.1).\n",
        "        with graph.local_scope():\n",
        "            graph.ndata['h'] = h\n",
        "            graph.apply_edges(fn.u_dot_v('h', 'h', 'score'), etype=etype)\n",
        "            return graph.edges[etype].data['score']"
      ],
      "metadata": {
        "id": "_SFdGCI9x4JN"
      },
      "execution_count": 79,
      "outputs": []
    },
    {
      "cell_type": "code",
      "source": [
        "def construct_negative_graph(graph, k, etype):\n",
        "    utype, _, vtype = etype\n",
        "    src, dst = graph.edges(etype=etype)\n",
        "    neg_src = src.repeat_interleave(k)\n",
        "    neg_dst = torch.randint(0, graph.num_nodes(vtype), (len(src) * k,))\n",
        "    return dgl.heterograph(\n",
        "        {etype: (neg_src, neg_dst)},\n",
        "        num_nodes_dict={ntype: graph.num_nodes(ntype) for ntype in graph.ntypes})"
      ],
      "metadata": {
        "id": "gcT_ZRx3x4C2"
      },
      "execution_count": 80,
      "outputs": []
    },
    {
      "cell_type": "code",
      "source": [
        "class RGCN(nn.Module):\n",
        "    def __init__(self, in_feats, hid_feats, out_feats, rel_names):\n",
        "        super().__init__()\n",
        "\n",
        "        self.conv1 = dgl.nn.HeteroGraphConv({\n",
        "            rel: dgl.nn.GraphConv(in_feats, hid_feats)\n",
        "            for rel in rel_names}, aggregate='sum')\n",
        "        self.conv2 = dgl.nn.HeteroGraphConv({\n",
        "            rel: dgl.nn.GraphConv(hid_feats, out_feats)\n",
        "            for rel in rel_names}, aggregate='sum')\n",
        "\n",
        "    def forward(self, graph, inputs):\n",
        "        # inputs are features of nodes\n",
        "        h = self.conv1(graph, inputs)\n",
        "        h = {k: F.relu(v) for k, v in h.items()}\n",
        "        h = self.conv2(graph, h)\n",
        "        return h"
      ],
      "metadata": {
        "id": "Zmz9FpPKyE6m"
      },
      "execution_count": 81,
      "outputs": []
    },
    {
      "cell_type": "code",
      "source": [
        "class Model(nn.Module):\n",
        "    def __init__(self, in_features, hidden_features, out_features, rel_names):\n",
        "        super().__init__()\n",
        "        self.sage = RGCN(in_features, hidden_features, out_features, rel_names)\n",
        "        self.pred = HeteroDotProductPredictor()\n",
        "    def forward(self, g, neg_g, x, etype):\n",
        "        h = self.sage(g, x)\n",
        "        return self.pred(g, h, etype), self.pred(neg_g, h, etype)"
      ],
      "metadata": {
        "id": "ghkypG43yFct"
      },
      "execution_count": 82,
      "outputs": []
    },
    {
      "cell_type": "code",
      "source": [
        "def compute_loss(pos_score, neg_score):\n",
        "    # Margin loss\n",
        "    n_edges = pos_score.shape[0]\n",
        "    return (1 - pos_score + neg_score.view(n_edges, -1)).clamp(min=0).mean()\n",
        "\n",
        "k = 5\n",
        "model = Model(featsize, 200, 100, he_g.etypes)\n",
        "user_feats = he_g.nodes['user_id'].data['feature']\n",
        "item_feats =he_g.nodes['movie_id'].data['feature']\n",
        "node_features = {'user_id': user_feats, 'movie_id': item_feats}\n",
        "\n",
        "\n",
        "opt = torch.optim.Adam(model.parameters())\n",
        "for epoch in range(10):\n",
        "    negative_graph = construct_negative_graph(he_g, k,  ('user_id', 'score', 'movie_id')) \n",
        "    pos_score, neg_score = model(he_g, negative_graph, node_features,  ('user_id', 'score', 'movie_id'))\n",
        "    loss = compute_loss(pos_score, neg_score)\n",
        "    opt.zero_grad()\n",
        "    loss.backward()\n",
        "    opt.step()\n",
        "    print(loss.item())"
      ],
      "metadata": {
        "colab": {
          "base_uri": "https://localhost:8080/"
        },
        "id": "4AKPUJroyJJN",
        "outputId": "c58829c4-e60d-446b-ca46-891d3d1b9121"
      },
      "execution_count": 83,
      "outputs": [
        {
          "output_type": "stream",
          "name": "stderr",
          "text": [
            "/usr/local/lib/python3.7/dist-packages/torch/amp/autocast_mode.py:198: UserWarning: User provided device_type of 'cuda', but CUDA is not available. Disabling\n",
            "  warnings.warn('User provided device_type of \\'cuda\\', but CUDA is not available. Disabling')\n"
          ]
        },
        {
          "output_type": "stream",
          "name": "stdout",
          "text": [
            "1.001032829284668\n",
            "0.9103068709373474\n",
            "0.8020084500312805\n",
            "0.673152506351471\n",
            "0.5630406737327576\n",
            "0.51024329662323\n",
            "0.513797402381897\n",
            "0.5463196635246277\n",
            "0.5770770907402039\n",
            "0.5869935750961304\n"
          ]
        }
      ]
    },
    {
      "cell_type": "code",
      "source": [
        "node_embeddings = model.sage(he_g, node_features)\n",
        "node_embeddings"
      ],
      "metadata": {
        "colab": {
          "base_uri": "https://localhost:8080/"
        },
        "id": "QiXdkLBD1NlO",
        "outputId": "f4fa2989-fd2c-4399-b60d-6063055cd625"
      },
      "execution_count": 87,
      "outputs": [
        {
          "output_type": "execute_result",
          "data": {
            "text/plain": [
              "{'movie_id': tensor([[ 3.3609e-01,  2.1784e-01, -3.3297e-01,  ...,  2.1663e-01,\n",
              "           4.9422e-01, -3.3710e-01],\n",
              "         [ 1.8973e-01,  1.3951e-01, -1.6907e-01,  ...,  1.3156e-01,\n",
              "           2.5287e-01, -2.0049e-01],\n",
              "         [ 1.9714e-01,  1.0286e-01, -1.7757e-01,  ...,  1.4408e-01,\n",
              "           2.7083e-01, -2.0726e-01],\n",
              "         ...,\n",
              "         [ 1.5565e-02,  7.3231e-03, -2.1240e-02,  ...,  1.9399e-02,\n",
              "           1.8284e-02, -6.7852e-03],\n",
              "         [ 1.1214e-02,  3.2417e-04, -2.5979e-03,  ...,  5.1333e-03,\n",
              "           1.3954e-02, -6.9160e-03],\n",
              "         [ 7.8178e-03,  1.1520e-02, -2.5206e-02,  ...,  6.6804e-03,\n",
              "           8.6156e-03, -1.4852e-02]], grad_fn=<SumBackward1>),\n",
              " 'user_id': tensor([[ 0.0833, -0.0152, -0.0747,  ...,  0.0684,  0.0907, -0.0764],\n",
              "         [ 0.1186, -0.0162, -0.1223,  ...,  0.0916,  0.1414, -0.1085],\n",
              "         [ 0.0790, -0.0133, -0.0932,  ...,  0.0658,  0.0908, -0.0738],\n",
              "         ...,\n",
              "         [ 0.0561, -0.0153, -0.0597,  ...,  0.0396,  0.0641, -0.0413],\n",
              "         [ 0.1234, -0.0369, -0.1204,  ...,  0.0839,  0.1448, -0.1073],\n",
              "         [ 0.2080, -0.0421, -0.2149,  ...,  0.1372,  0.2269, -0.1730]],\n",
              "        grad_fn=<SumBackward1>)}"
            ]
          },
          "metadata": {},
          "execution_count": 87
        }
      ]
    },
    {
      "cell_type": "code",
      "source": [
        "node_embeddings['movie_id'].shape"
      ],
      "metadata": {
        "colab": {
          "base_uri": "https://localhost:8080/"
        },
        "id": "HxRMMvIf3KKO",
        "outputId": "e25d779a-202c-42cb-a79e-5ee29dae9d41"
      },
      "execution_count": 88,
      "outputs": [
        {
          "output_type": "execute_result",
          "data": {
            "text/plain": [
              "torch.Size([3706, 100])"
            ]
          },
          "metadata": {},
          "execution_count": 88
        }
      ]
    },
    {
      "cell_type": "code",
      "source": [
        "movie_nodeidx[3702], movie_nodeidx[3703], movie_nodeidx[3704], movie_nodeidx[1608], movie_nodeidx[1721], movie_nodeidx[111], movie_nodeidx[215]"
      ],
      "metadata": {
        "colab": {
          "base_uri": "https://localhost:8080/"
        },
        "id": "28Sd3Nh-0Xj1",
        "outputId": "b9f09aea-46d9-4bb7-fad6-1b0de1d6c7fd"
      },
      "execution_count": 84,
      "outputs": [
        {
          "output_type": "execute_result",
          "data": {
            "text/plain": [
              "(211, 664, 666, 895, 27, 486, 232)"
            ]
          },
          "metadata": {},
          "execution_count": 84
        }
      ]
    },
    {
      "cell_type": "code",
      "source": [
        "# 벡터 유사도 측정 함수\n",
        "def cos_sim(A, B):\n",
        "  return dot(A, B)/(norm(A)*norm(B))"
      ],
      "metadata": {
        "id": "eoNn4-L7yJul"
      },
      "execution_count": 90,
      "outputs": []
    },
    {
      "cell_type": "code",
      "source": [
        "cos_sim(node_embeddings['movie_id'][664].detach().numpy() , node_embeddings['movie_id'][211].detach().numpy())"
      ],
      "metadata": {
        "colab": {
          "base_uri": "https://localhost:8080/"
        },
        "id": "imJMeEks1Fuv",
        "outputId": "63bda004-6a98-4faf-bbf9-e59fe0509eff"
      },
      "execution_count": 93,
      "outputs": [
        {
          "output_type": "execute_result",
          "data": {
            "text/plain": [
              "0.9998912"
            ]
          },
          "metadata": {},
          "execution_count": 93
        }
      ]
    },
    {
      "cell_type": "code",
      "source": [
        "cos_sim(node_embeddings['movie_id'][664].detach().numpy(), node_embeddings['movie_id'][666].detach().numpy())"
      ],
      "metadata": {
        "colab": {
          "base_uri": "https://localhost:8080/"
        },
        "id": "GPJklNi03gBl",
        "outputId": "885977ce-7c23-4953-e5c5-ed7365f7005d"
      },
      "execution_count": 95,
      "outputs": [
        {
          "output_type": "execute_result",
          "data": {
            "text/plain": [
              "0.9996429"
            ]
          },
          "metadata": {},
          "execution_count": 95
        }
      ]
    },
    {
      "cell_type": "code",
      "source": [
        "cos_sim(node_embeddings['movie_id'][664].detach().numpy(), node_embeddings['movie_id'][895].detach().numpy())"
      ],
      "metadata": {
        "colab": {
          "base_uri": "https://localhost:8080/"
        },
        "id": "DUkSjvij3f--",
        "outputId": "6a3cef6e-a493-4151-fe5d-3e20130f87f3"
      },
      "execution_count": 96,
      "outputs": [
        {
          "output_type": "execute_result",
          "data": {
            "text/plain": [
              "0.9978579"
            ]
          },
          "metadata": {},
          "execution_count": 96
        }
      ]
    },
    {
      "cell_type": "code",
      "source": [
        "cos_sim(node_embeddings['movie_id'][664].detach().numpy(), node_embeddings['movie_id'][27].detach().numpy())"
      ],
      "metadata": {
        "colab": {
          "base_uri": "https://localhost:8080/"
        },
        "id": "2GbseL293f8P",
        "outputId": "5644af5a-ecc9-475d-968f-edcf0452a67d"
      },
      "execution_count": 97,
      "outputs": [
        {
          "output_type": "execute_result",
          "data": {
            "text/plain": [
              "0.99756974"
            ]
          },
          "metadata": {},
          "execution_count": 97
        }
      ]
    },
    {
      "cell_type": "code",
      "source": [
        "cos_sim(node_embeddings['movie_id'][664].detach().numpy(), node_embeddings['movie_id'][486].detach().numpy())"
      ],
      "metadata": {
        "colab": {
          "base_uri": "https://localhost:8080/"
        },
        "id": "dTm_NBAG3f5W",
        "outputId": "e7c5f6b4-d0e3-40ec-e332-18256b1f3aef"
      },
      "execution_count": 98,
      "outputs": [
        {
          "output_type": "execute_result",
          "data": {
            "text/plain": [
              "0.9983871"
            ]
          },
          "metadata": {},
          "execution_count": 98
        }
      ]
    },
    {
      "cell_type": "code",
      "source": [
        "cos_sim(node_embeddings['movie_id'][664].detach().numpy(), node_embeddings['movie_id'][232].detach().numpy()) #비포선라이즈가 낮기는 한듯? "
      ],
      "metadata": {
        "colab": {
          "base_uri": "https://localhost:8080/"
        },
        "id": "aDY8Vudg4KOu",
        "outputId": "9895c91a-746b-41b7-e494-c80421298ce1"
      },
      "execution_count": 99,
      "outputs": [
        {
          "output_type": "execute_result",
          "data": {
            "text/plain": [
              "0.99510753"
            ]
          },
          "metadata": {},
          "execution_count": 99
        }
      ]
    },
    {
      "cell_type": "code",
      "source": [
        ""
      ],
      "metadata": {
        "id": "wOmA3XP44PGN"
      },
      "execution_count": null,
      "outputs": []
    },
    {
      "cell_type": "code",
      "source": [
        "cos_sim(node_embeddings['movie_id'][211].detach().numpy(), node_embeddings['user_id'][0].detach().numpy() ) #유저-영화가 구분이 되기한다. 아주 살짝. "
      ],
      "metadata": {
        "colab": {
          "base_uri": "https://localhost:8080/"
        },
        "id": "CgMGg21q3aa2",
        "outputId": "41101355-eb1d-428a-dd2e-99e205bfb5db"
      },
      "execution_count": 92,
      "outputs": [
        {
          "output_type": "execute_result",
          "data": {
            "text/plain": [
              "0.9105413"
            ]
          },
          "metadata": {},
          "execution_count": 92
        }
      ]
    },
    {
      "cell_type": "code",
      "source": [
        "cos_sim(node_embeddings['movie_id'][211].detach().numpy(), node_embeddings['user_id'][100].detach().numpy() )"
      ],
      "metadata": {
        "colab": {
          "base_uri": "https://localhost:8080/"
        },
        "id": "P1l8FU8l3ebG",
        "outputId": "fb6dd9c7-8576-4f76-eb5d-fbc5d026b5cb"
      },
      "execution_count": 100,
      "outputs": [
        {
          "output_type": "execute_result",
          "data": {
            "text/plain": [
              "0.91069055"
            ]
          },
          "metadata": {},
          "execution_count": 100
        }
      ]
    },
    {
      "cell_type": "code",
      "source": [
        ""
      ],
      "metadata": {
        "id": "L5YoK40R4b-L"
      },
      "execution_count": null,
      "outputs": []
    }
  ]
}